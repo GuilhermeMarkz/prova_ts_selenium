{
 "cells": [
  {
   "cell_type": "code",
   "execution_count": 7,
   "id": "78465804-3b7b-4717-8c13-13588807cc85",
   "metadata": {},
   "outputs": [],
   "source": [
    "from selenium import webdriver\n",
    "from selenium.webdriver.common.by import By\n",
    "from selenium.webdriver.chrome.service import Service\n",
    "import time"
   ]
  },
  {
   "cell_type": "markdown",
   "id": "fb1f79ce-5897-4e32-a2ab-2ea8bd270f67",
   "metadata": {},
   "source": [
    "Questão 6"
   ]
  },
  {
   "cell_type": "code",
   "execution_count": 8,
   "id": "cad3f233-9bbe-4003-aaa6-60a203801d7f",
   "metadata": {},
   "outputs": [],
   "source": [
    "service = Service('C:/Users/Bezerra/Documents/ablublé/teti2024/chromedriver.exe') # Ajuste o caminho do seu driver\n",
    "options = webdriver.ChromeOptions()\n",
    "options.add_argument('--no-sandbox')\n",
    "driver = webdriver.Chrome(service=service, options=options)\n",
    "\n",
    "try:\n",
    "    \n",
    "    driver.get(\"https://www.google.com\")\n",
    "\n",
    "    \n",
    "    search_box = driver.find_element(\"name\", \"q\") \n",
    "\n",
    "    search_box.send_keys(\"Python Selenium\")\n",
    "    search_box.send_keys(Keys.RETURN)  \n",
    "\n",
    "    time.sleep(2)\n",
    "\n",
    "    driver.save_screenshot(\"resultado.png\")\n",
    "\n",
    "finally:\n",
    "    driver.quit()"
   ]
  },
  {
   "cell_type": "raw",
   "id": "9c57bea2-063e-4c6c-860b-a6364f2377fc",
   "metadata": {},
   "source": [
    "Questão 8"
   ]
  },
  {
   "cell_type": "code",
   "execution_count": 9,
   "id": "13246961-70cd-4ee2-b05f-42359386b2f4",
   "metadata": {},
   "outputs": [
    {
     "name": "stdout",
     "output_type": "stream",
     "text": [
      "Downloads\n"
     ]
    }
   ],
   "source": [
    "service = Service('C:/Users/Bezerra/Documents/ablublé/teti2024/chromedriver.exe') # Ajuste o caminho do seu driver\n",
    "options = webdriver.ChromeOptions()\n",
    "options.add_argument('--no-sandbox')\n",
    "driver = webdriver.Chrome(service=service, options=options)\n",
    "\n",
    "try:\n",
    "    driver.get(\"https://www.selenium.dev/\")\n",
    "\n",
    "    download_link = driver.find_element(By.LINK_TEXT, \"Downloads\")\n",
    "    download_link.click()\n",
    "\n",
    "    time.sleep(2)\n",
    "\n",
    "    header = driver.find_element(By.TAG_NAME, \"h1\")  \n",
    "    print(header.text)\n",
    "\n",
    "finally:\n",
    "    # Fechar o navegador\n",
    "    driver.quit()"
   ]
  },
  {
   "cell_type": "markdown",
   "id": "08a7c254-7ac4-4ac7-b55d-e828ff9163ac",
   "metadata": {},
   "source": [
    "Questão 9"
   ]
  },
  {
   "cell_type": "code",
   "execution_count": 11,
   "id": "2707834b-83b7-469f-adb1-b791629d862e",
   "metadata": {},
   "outputs": [
    {
     "name": "stdout",
     "output_type": "stream",
     "text": [
      "Nenhum alerta foi encontrado: name 'Alert' is not defined\n"
     ]
    }
   ],
   "source": [
    "service = Service('C:/Users/Bezerra/Documents/ablublé/teti2024/chromedriver.exe') # Ajuste o caminho do seu driver\n",
    "options = webdriver.ChromeOptions()\n",
    "options.add_argument('--no-sandbox')\n",
    "driver = webdriver.Chrome(service=service, options=options)\n",
    "\n",
    "try:\n",
    "    driver.get(\"https://www.selenium.dev/\")\n",
    "\n",
    "    time.sleep(2)\n",
    "    \n",
    "    try:\n",
    "        alert = Alert(driver)\n",
    "\n",
    "        alert.accept() \n",
    "\n",
    "        print(\"Alerta fechado com sucesso!\")\n",
    "\n",
    "    except Exception as e:\n",
    "        print(\"Nenhum alerta foi encontrado:\", str(e))\n",
    "\n",
    "finally:\n",
    "    driver.quit()"
   ]
  },
  {
   "cell_type": "markdown",
   "id": "4d3de927-18c7-4086-8178-911d1d1ed4a6",
   "metadata": {},
   "source": [
    "Questão 10"
   ]
  },
  {
   "cell_type": "code",
   "execution_count": 12,
   "id": "99533445-b20b-4dcc-b6dc-9bdc27adb0e4",
   "metadata": {},
   "outputs": [
    {
     "name": "stdout",
     "output_type": "stream",
     "text": [
      "Login bem-sucedido!\n"
     ]
    }
   ],
   "source": [
    "service = Service('C:/Users/Bezerra/Documents/ablublé/teti2024/chromedriver.exe') # Ajuste o caminho do seu driver\n",
    "options = webdriver.ChromeOptions()\n",
    "options.add_argument('--no-sandbox')\n",
    "driver = webdriver.Chrome(service=service, options=options)\n",
    "\n",
    "try:\n",
    "    driver.get(\"https://the-internet.herokuapp.com/login\")\n",
    "\n",
    "    username_input = driver.find_element(By.ID, \"username\")\n",
    "    password_input = driver.find_element(By.ID, \"password\")\n",
    "\n",
    "    username_input.send_keys(\"tomsmith\")\n",
    "    password_input.send_keys(\"SuperSecretPassword!\")\n",
    "\n",
    "    login_button = driver.find_element(By.CSS_SELECTOR, \"button[type='submit']\")\n",
    "    login_button.click()\n",
    "\n",
    "    time.sleep(2)  \n",
    "\n",
    "    success_message = driver.find_element(By.CSS_SELECTOR, \".flash.success\")\n",
    "    if \"You logged into a secure area!\" in success_message.text:\n",
    "        print(\"Login bem-sucedido!\")\n",
    "    else:\n",
    "        print(\"Login falhou.\")\n",
    "\n",
    "finally:\n",
    "    driver.quit()"
   ]
  },
  {
   "cell_type": "code",
   "execution_count": null,
   "id": "cbdb3817-36f3-40da-82b1-5f13ea7aa3e8",
   "metadata": {},
   "outputs": [],
   "source": []
  }
 ],
 "metadata": {
  "kernelspec": {
   "display_name": "Python 3 (ipykernel)",
   "language": "python",
   "name": "python3"
  },
  "language_info": {
   "codemirror_mode": {
    "name": "ipython",
    "version": 3
   },
   "file_extension": ".py",
   "mimetype": "text/x-python",
   "name": "python",
   "nbconvert_exporter": "python",
   "pygments_lexer": "ipython3",
   "version": "3.10.15"
  }
 },
 "nbformat": 4,
 "nbformat_minor": 5
}
